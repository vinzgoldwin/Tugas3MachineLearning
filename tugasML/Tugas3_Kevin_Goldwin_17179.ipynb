{
 "cells": [
  {
   "cell_type": "markdown",
   "metadata": {
    "colab_type": "text",
    "id": "6Csf4J54eIp_"
   },
   "source": [
    "## Kevin Goldwin\n",
    "### 16/394088/PA/17179"
   ]
  },
  {
   "cell_type": "code",
   "execution_count": 1,
   "metadata": {
    "colab": {},
    "colab_type": "code",
    "id": "55F9ZqKrwBGg"
   },
   "outputs": [],
   "source": [
    "import matplotlib.pyplot as plt\n",
    "import numpy as np\n",
    "import pandas as pd\n"
   ]
  },
  {
   "cell_type": "code",
   "execution_count": 2,
   "metadata": {
    "colab": {},
    "colab_type": "code",
    "id": "a8j7WCXbw-WM"
   },
   "outputs": [],
   "source": [
    "#menload data\n",
    "colname=['x1','x2','x3','x4','iris']\n",
    "iris = pd.read_csv('iris.data',usecols = [0,1,2,3,4])\n",
    "iris.columns = colname\n",
    "#mengganti kelas iris menjadi 0.0 dan 1.0\n",
    "iris['class'] = iris.iris.replace(['Iris-setosa', 'Iris-versicolor'], [0.0,1.0])\n"
   ]
  },
  {
   "cell_type": "code",
   "execution_count": 3,
   "metadata": {
    "colab": {
     "base_uri": "https://localhost:8080/",
     "height": 196
    },
    "colab_type": "code",
    "id": "WWze-gPjxCxz",
    "outputId": "7389ed9e-344a-4c43-8928-dc12f5ea59eb"
   },
   "outputs": [
    {
     "data": {
      "text/html": [
       "<div>\n",
       "<style scoped>\n",
       "    .dataframe tbody tr th:only-of-type {\n",
       "        vertical-align: middle;\n",
       "    }\n",
       "\n",
       "    .dataframe tbody tr th {\n",
       "        vertical-align: top;\n",
       "    }\n",
       "\n",
       "    .dataframe thead th {\n",
       "        text-align: right;\n",
       "    }\n",
       "</style>\n",
       "<table border=\"1\" class=\"dataframe\">\n",
       "  <thead>\n",
       "    <tr style=\"text-align: right;\">\n",
       "      <th></th>\n",
       "      <th>x1</th>\n",
       "      <th>x2</th>\n",
       "      <th>x3</th>\n",
       "      <th>x4</th>\n",
       "      <th>iris</th>\n",
       "      <th>class</th>\n",
       "    </tr>\n",
       "  </thead>\n",
       "  <tbody>\n",
       "    <tr>\n",
       "      <th>0</th>\n",
       "      <td>4.9</td>\n",
       "      <td>3.0</td>\n",
       "      <td>1.4</td>\n",
       "      <td>0.2</td>\n",
       "      <td>Iris-setosa</td>\n",
       "      <td>0</td>\n",
       "    </tr>\n",
       "    <tr>\n",
       "      <th>1</th>\n",
       "      <td>4.7</td>\n",
       "      <td>3.2</td>\n",
       "      <td>1.3</td>\n",
       "      <td>0.2</td>\n",
       "      <td>Iris-setosa</td>\n",
       "      <td>0</td>\n",
       "    </tr>\n",
       "    <tr>\n",
       "      <th>2</th>\n",
       "      <td>4.6</td>\n",
       "      <td>3.1</td>\n",
       "      <td>1.5</td>\n",
       "      <td>0.2</td>\n",
       "      <td>Iris-setosa</td>\n",
       "      <td>0</td>\n",
       "    </tr>\n",
       "    <tr>\n",
       "      <th>3</th>\n",
       "      <td>5.0</td>\n",
       "      <td>3.6</td>\n",
       "      <td>1.4</td>\n",
       "      <td>0.2</td>\n",
       "      <td>Iris-setosa</td>\n",
       "      <td>0</td>\n",
       "    </tr>\n",
       "    <tr>\n",
       "      <th>4</th>\n",
       "      <td>5.4</td>\n",
       "      <td>3.9</td>\n",
       "      <td>1.7</td>\n",
       "      <td>0.4</td>\n",
       "      <td>Iris-setosa</td>\n",
       "      <td>0</td>\n",
       "    </tr>\n",
       "  </tbody>\n",
       "</table>\n",
       "</div>"
      ],
      "text/plain": [
       "    x1   x2   x3   x4         iris class\n",
       "0  4.9  3.0  1.4  0.2  Iris-setosa     0\n",
       "1  4.7  3.2  1.3  0.2  Iris-setosa     0\n",
       "2  4.6  3.1  1.5  0.2  Iris-setosa     0\n",
       "3  5.0  3.6  1.4  0.2  Iris-setosa     0\n",
       "4  5.4  3.9  1.7  0.4  Iris-setosa     0"
      ]
     },
     "execution_count": 3,
     "metadata": {},
     "output_type": "execute_result"
    }
   ],
   "source": [
    "iris.head()"
   ]
  },
  {
   "cell_type": "code",
   "execution_count": 4,
   "metadata": {
    "colab": {
     "base_uri": "https://localhost:8080/",
     "height": 134
    },
    "colab_type": "code",
    "id": "GpBqvm2cDznN",
    "outputId": "6300d6fd-00fa-430a-d254-9e1b850a9936"
   },
   "outputs": [
    {
     "data": {
      "text/plain": [
       "x1       float64\n",
       "x2       float64\n",
       "x3       float64\n",
       "x4       float64\n",
       "iris      object\n",
       "class     object\n",
       "dtype: object"
      ]
     },
     "execution_count": 4,
     "metadata": {},
     "output_type": "execute_result"
    }
   ],
   "source": [
    "iris.dtypes"
   ]
  },
  {
   "cell_type": "code",
   "execution_count": null,
   "metadata": {
    "colab": {},
    "colab_type": "code",
    "id": "hBvivg_BTywd"
   },
   "outputs": [],
   "source": [
    "#fungsi training data\n",
    "def train(iris, w, learningrate, epoch): \n",
    "  weight =w\n",
    "  dtheta = [0,0,0,0,0]\n",
    "  actual=[]\n",
    "  predicted= []\n",
    "  aktivasi = []\n",
    "  accuracy = []\n",
    "  e=[]\n",
    "  n=0\n",
    "  #di looping sebanyak epoch \n",
    "  while(n<epoch):\n",
    "    \n",
    "    for i in range (len(iris)):\n",
    "      #untuk menghitung result \n",
    "      result = weight[0]*iris['x1'][i]+weight[1]*iris['x2'][i]+weight[2]*iris['x3'][i]+weight[3]*iris['x4'][i]+weight[4]\n",
    "      \n",
    "      #fungsi aktivasi sigmoid \n",
    "      activation = 1/(1+np.exp(-result))\n",
    "      \n",
    "      for j in range(0,len(dtheta)-1):\n",
    "        dtheta[j] = 2*iris.iloc[i,j]*(iris['class'][i]-activation)*(1-activation)*activation\n",
    "        \n",
    "      dtheta[4] = 2*(iris['class'][i]-activation)*(1-activation)*activation\n",
    "      \n",
    "      #update weight\n",
    "      for x in range(len(weight)): \n",
    "        weight[x] = weight[x] + learningrate * dtheta[x]\n",
    "\n",
    "      #membuat prediksi kalau aktivasi>0.5 maka = 1\n",
    "      if activation >= 0.5:\n",
    "        prediction = 1.0\n",
    "      else: \n",
    "        prediction = 0.0\n",
    "  \n",
    "\n",
    "      actual.append(iris['class'][i])\n",
    "      predicted.append(prediction)\n",
    "      aktivasi.append(activation)\n",
    "      \n",
    "      #menghitung performance measure confusion matrix\n",
    "      TP,FP,TN,FN = performancemeasure(actual,predicted)\n",
    "      \n",
    "      #akurasi & error \n",
    "      acc= (TP+TN)/(TP+FP+TN+FN)\n",
    "      err = error(actual,aktivasi)\n",
    "      \n",
    "    n+=1\n",
    "    accuracy.append(acc)\n",
    "    e.append(err)\n",
    "  return(weight,accuracy,e)\n",
    "    \n"
   ]
  },
  {
   "cell_type": "markdown",
   "metadata": {
    "colab_type": "text",
    "id": "5Pxl8zXlg9xa"
   },
   "source": [
    "Fungsi untuk validasi"
   ]
  },
  {
   "cell_type": "code",
   "execution_count": null,
   "metadata": {
    "colab": {},
    "colab_type": "code",
    "id": "5xKIEjU2g9YB"
   },
   "outputs": [],
   "source": [
    "def validasi(iris,w,learningrate,epoch):\n",
    "  weight=w\n",
    "  actual=[]\n",
    "  predicted= []\n",
    "  aktivasi = []\n",
    "  accuracy = []\n",
    "  e=[]\n",
    "  n=0\n",
    "  \n",
    "  #iterasi sebanyak epoch\n",
    "  while(n<epoch):\n",
    "    \n",
    "    for i in range (len(iris)):\n",
    "      #sama seperti training tetapi weight tidak di update\n",
    "      \n",
    "      result = weight[0]*iris['x1'][i]+weight[1]*iris['x2'][i]+weight[2]*iris['x3'][i]+weight[3]*iris['x4'][i]+weight[4]\n",
    "      activation = 1/(1+np.exp(-result))\n",
    "      \n",
    "      if activation >= 0.5:\n",
    "        prediction = 1.0\n",
    "      else: \n",
    "        prediction = 0.0\n",
    "  \n",
    "\n",
    "      actual.append(iris['class'][i])\n",
    "      predicted.append(prediction)\n",
    "      aktivasi.append(activation)\n",
    "\n",
    "      TP,FP,TN,FN = performancemeasure(actual,predicted)\n",
    "      \n",
    "      #hitung akurasi dan error\n",
    "      acc= (TP+TN)/(TP+FP+TN+FN)\n",
    "      err = error(actual,aktivasi)\n",
    "    n+=1\n",
    "    accuracy.append(acc)\n",
    "    e.append(err)\n",
    "  return(accuracy,e)"
   ]
  },
  {
   "cell_type": "markdown",
   "metadata": {
    "colab_type": "text",
    "id": "5NeyAP8MgLPB"
   },
   "source": [
    "Fungsi untuk menghitung performance measure confusion matrix"
   ]
  },
  {
   "cell_type": "code",
   "execution_count": null,
   "metadata": {
    "colab": {},
    "colab_type": "code",
    "id": "zIwWDCGkgKUR"
   },
   "outputs": [],
   "source": [
    "def performancemeasure(actual, predicted):\n",
    "    TP = 0\n",
    "    FP = 0\n",
    "    TN = 0\n",
    "    FN = 0\n",
    "\n",
    "    for i in range(len(predicted)): \n",
    "        #True Positive = faktanya T, prediksi T\n",
    "        if actual[i]==predicted[i]==0:\n",
    "           TP += 1\n",
    "        #False Positive = faktanya F, prediksi T    \n",
    "        if actual[i]==1 and actual[i]!=predicted[i]:\n",
    "           FP += 1\n",
    "        #True Negative = faktanya F, prediksi F  \n",
    "        if actual[i]==predicted[i]==1:\n",
    "           TN += 1\n",
    "        #False Negative = faktanya T, prediksi F  \n",
    "        if actual[i]==0 and actual[i]!=predicted[i]:\n",
    "           FN += 1\n",
    "    return(TP, FP, TN, FN)"
   ]
  },
  {
   "cell_type": "markdown",
   "metadata": {
    "colab_type": "text",
    "id": "u2wf2bPXhUyc"
   },
   "source": [
    "Fungsi untuk menghitung loss function (error) = 1/2(pred-actual)^2"
   ]
  },
  {
   "cell_type": "code",
   "execution_count": null,
   "metadata": {
    "colab": {},
    "colab_type": "code",
    "id": "cq4J2AewhTEx"
   },
   "outputs": [],
   "source": [
    "\n",
    "def error(actual, predicted):\n",
    "\terror = 0.0\n",
    "\tfor i in range(len(actual)):\n",
    "\t\terror += 1/2*(predicted[i] - actual[i])**2\n",
    "\tmean = error / len(actual)\n",
    "\treturn mean"
   ]
  },
  {
   "cell_type": "markdown",
   "metadata": {
    "colab_type": "text",
    "id": "sxS_833MhcCA"
   },
   "source": [
    "## K-Fold Cross Validation, k = 5"
   ]
  },
  {
   "cell_type": "code",
   "execution_count": null,
   "metadata": {
    "colab": {},
    "colab_type": "code",
    "id": "Kwri3ZVuhpQS"
   },
   "outputs": [],
   "source": [
    "#Data awal dibagi menjadi 5 fold, dengan masing-masing fold sebanyak 20\n",
    "\n",
    "copy = iris\n",
    "\n",
    "#crossval1 = f1+f2+f3+f4 train, f5=val\n",
    "train1 = copy[0:80]\n",
    "val1 = copy[80:100]\n",
    "\n",
    "#crossval2 = f2+f3+f4+f5 train, f1=val\n",
    "train2 = copy[20:100]\n",
    "val2 = copy[0:20]\n",
    "\n",
    "#crossval3 = f1+f2+f4+f5 train, f2=val\n",
    "yy = copy[0:20]\n",
    "xx = copy[40:100]\n",
    "train3= yy.append(xx)\n",
    "val3 = copy[20:40]\n",
    "\n",
    "#crossval4 = f1+f2+f3+f5 train, f3=val\n",
    "yy = copy[0:40]\n",
    "xx = copy[60:100]\n",
    "train4= yy.append(xx)\n",
    "val4 = copy[40:60]\n",
    "\n",
    "#crossval5 = f1+f2+f3+f5 train, f4=val\n",
    "yy = copy[0:60]\n",
    "xx = copy[80:100]\n",
    "train5= yy.append(xx)\n",
    "val5 = copy[60:80]"
   ]
  },
  {
   "cell_type": "code",
   "execution_count": null,
   "metadata": {
    "colab": {},
    "colab_type": "code",
    "id": "pAWm_DU9h3Tw"
   },
   "outputs": [],
   "source": [
    "#reset index biar dari 0 semua \n",
    "\n",
    "train1=train1.reset_index(drop=True)\n",
    "val1= val1.reset_index(drop=True)\n",
    "train2 = train2.reset_index(drop=True)\n",
    "val2 = val2.reset_index(drop=True)\n",
    "train3 = train3.reset_index(drop=True)\n",
    "val3 = val3.reset_index(drop=True)\n",
    "train4 = train4.reset_index(drop=True)\n",
    "val4 = val4.reset_index(drop=True)\n",
    "train5 = train5.reset_index(drop=True)\n",
    "val5 =val5.reset_index(drop=True)"
   ]
  },
  {
   "cell_type": "markdown",
   "metadata": {
    "colab_type": "text",
    "id": "Orgawiyfh9il"
   },
   "source": [
    "## Training dan validasi learning rate 0.1"
   ]
  },
  {
   "cell_type": "code",
   "execution_count": null,
   "metadata": {
    "colab": {},
    "colab_type": "code",
    "id": "KYwZI1eiiPiM"
   },
   "outputs": [],
   "source": [
    "#inisialisasi weight \n",
    "#untuk semua training di set 0.5\n",
    "w = [0.5,0.5,0.5,0.5,0.5]"
   ]
  },
  {
   "cell_type": "code",
   "execution_count": null,
   "metadata": {
    "colab": {},
    "colab_type": "code",
    "id": "o4ZJ03UXRNl4"
   },
   "outputs": [],
   "source": [
    "#Training dilakukan sebanyak 5 kali, dengan epoch 300, dan learning rate 0.1\n",
    "w1,acc1,e1 = train(train1,w,0.1,300)\n",
    "w2,acc2,e2 = train(train2,w,0.1,300)\n",
    "w3,acc3,e3 = train(train3,w,0.1,300)\n",
    "w4,acc4,e4 = train(train4,w,0.1,300)\n",
    "w5,acc5,e5 = train(train5,w,0.1,300)"
   ]
  },
  {
   "cell_type": "code",
   "execution_count": null,
   "metadata": {
    "colab": {},
    "colab_type": "code",
    "id": "s4L1qDBWZCV_"
   },
   "outputs": [],
   "source": [
    "#Validasi dilakukan sebanyak 5 kali, dengan epoch 300, dan learning rate 0.1\n",
    "vacc1,ve1 = validasi(val1,w1,0.1,300)\n",
    "vacc2,ve2 = validasi(val2,w2,0.1,300)\n",
    "vacc3,ve3 = validasi(val3,w3,0.1,300)\n",
    "vacc4,ve4 = validasi(val4,w4,0.1,300)\n",
    "vacc5,ve5 = validasi(val5,w5,0.1,300)"
   ]
  },
  {
   "cell_type": "markdown",
   "metadata": {
    "colab_type": "text",
    "id": "IFX61NqQj5r9"
   },
   "source": [
    "### Akurasi dan Error dari data Train & Validasi "
   ]
  },
  {
   "cell_type": "code",
   "execution_count": null,
   "metadata": {
    "colab": {
     "base_uri": "https://localhost:8080/",
     "height": 70
    },
    "colab_type": "code",
    "id": "Xd7Xxw34UYYX",
    "outputId": "cbdf8ca3-390b-4874-df3b-d2331a0dc705"
   },
   "outputs": [],
   "source": [
    "#mean accuracy dari train \n",
    "meanacc = []\n",
    "for i in range (len(acc1)):\n",
    "  meanacc.append((acc1[i]+acc2[i]+acc3[i]+acc4[i]+acc5[i])/5)\n",
    "print(meanacc)\n",
    "\n",
    "#mean accuracy dari validasi\n",
    "meanaccv=[]\n",
    "for i in range (len(vacc1)):\n",
    "  meanaccv.append((vacc1[i]+vacc2[i]+vacc3[i]+vacc4[i]+vacc5[i])/5)\n",
    "print(meanaccv)"
   ]
  },
  {
   "cell_type": "code",
   "execution_count": null,
   "metadata": {
    "colab": {
     "base_uri": "https://localhost:8080/",
     "height": 70
    },
    "colab_type": "code",
    "id": "JzsHww29Wfzf",
    "outputId": "46a87cad-b4d5-4472-f784-9e7c53e53240"
   },
   "outputs": [],
   "source": [
    "#mean error dari train\n",
    "meanerror = []\n",
    "for i in range (len(e1)):\n",
    "  meanerror.append((e1[i]+e2[i]+e3[i]+e4[i]+e5[i])/5)\n",
    "print(meanerror)\n",
    "\n",
    "#mean error dari validasi\n",
    "meanerrorv = []\n",
    "for i in range (len(ve1)):\n",
    "  meanerrorv.append((ve1[i]+ve2[i]+ve3[i]+ve4[i]+ve5[i])/5)\n",
    "print(meanerrorv)"
   ]
  },
  {
   "cell_type": "markdown",
   "metadata": {
    "colab_type": "text",
    "id": "uK4DzHhNkCCj"
   },
   "source": [
    "### Visualisasi Grafik "
   ]
  },
  {
   "cell_type": "code",
   "execution_count": null,
   "metadata": {
    "colab": {
     "base_uri": "https://localhost:8080/",
     "height": 800
    },
    "colab_type": "code",
    "id": "LxxP7C_mXIEX",
    "outputId": "00188e3f-9a7e-41a4-b4a1-9cd4d544033e"
   },
   "outputs": [],
   "source": [
    "  #grafik akurasi \n",
    "  x=plt.show()\n",
    "  plt.suptitle('Grafik Akurasi Learning Rate 0.1')\n",
    "  plt.xlabel('epoch')\n",
    "  plt.ylabel('accuracy')\n",
    "  plt.plot(meanaccv,'-ob')\n",
    "  plt.plot(meanacc,'-om')\n",
    "  plt.gca().legend(('akurasi data validasi','akurasi data train'))\n",
    "  y=plt.show()\n",
    "  \n",
    "  #grafik error \n",
    "  y.suptitle('Grafik Error Learning Rate 0.1')\n",
    "  plt.xlabel('epoch')\n",
    "  plt.ylabel('error')\n",
    "  plt.plot(meanerrorv,'-ob')\n",
    "  plt.plot(meanerror,'-om')  \n",
    "  plt.gca().legend(('error data validasi','error data train'))"
   ]
  },
  {
   "cell_type": "markdown",
   "metadata": {
    "colab_type": "text",
    "id": "3J33I57QklsW"
   },
   "source": [
    "## Training dan validasi learning rate 0.8"
   ]
  },
  {
   "cell_type": "code",
   "execution_count": null,
   "metadata": {
    "colab": {},
    "colab_type": "code",
    "id": "-P0K78w3LpoY"
   },
   "outputs": [],
   "source": [
    "\n",
    "#inisialisasi weight \n",
    "#untuk semua training di set 0.5\n",
    "w = [0.5,0.5,0.5,0.5,0.5]"
   ]
  },
  {
   "cell_type": "code",
   "execution_count": null,
   "metadata": {
    "colab": {},
    "colab_type": "code",
    "id": "v1WBip-Akp8B"
   },
   "outputs": [],
   "source": [
    "#Training dilakukan sebanyak 5 kali, dengan epoch 300, dan learning rate 0.8\n",
    "w1,acc1,e1 = train(train1,w,0.8,300)\n",
    "w2,acc2,e2 = train(train2,w,0.8,300)\n",
    "w3,acc3,e3 = train(train3,w,0.8,300)\n",
    "w4,acc4,e4 = train(train4,w,0.8,300)\n",
    "w5,acc5,e5 = train(train5,w,0.8,300)"
   ]
  },
  {
   "cell_type": "code",
   "execution_count": null,
   "metadata": {
    "colab": {},
    "colab_type": "code",
    "id": "0jHpNIQwkwoa"
   },
   "outputs": [],
   "source": [
    "#Validasi dilakukan sebanyak 5 kali, dengan epoch 300, dan learning rate 0.8\n",
    "vacc1,ve1 = validasi(val1,w1,0.8,300)\n",
    "vacc2,ve2 = validasi(val2,w2,0.8,300)\n",
    "vacc3,ve3 = validasi(val3,w3,0.8,300)\n",
    "vacc4,ve4 = validasi(val4,w4,0.8,300)\n",
    "vacc5,ve5 = validasi(val5,w5,0.8,300)"
   ]
  },
  {
   "cell_type": "markdown",
   "metadata": {
    "colab_type": "text",
    "id": "kt8npFwZk9Lz"
   },
   "source": [
    "### Akurasi dan Error dari data Train & Validasi "
   ]
  },
  {
   "cell_type": "code",
   "execution_count": null,
   "metadata": {
    "colab": {
     "base_uri": "https://localhost:8080/",
     "height": 70
    },
    "colab_type": "code",
    "id": "O-VCB9hfk0WA",
    "outputId": "7cae7ba6-b7be-4b7e-f9a9-d3d479447ae6"
   },
   "outputs": [],
   "source": [
    "#mean accuracy dari train \n",
    "meanacc = []\n",
    "for i in range (len(acc1)):\n",
    "  meanacc.append((acc1[i]+acc2[i]+acc3[i]+acc4[i]+acc5[i])/5)\n",
    "print(meanacc)\n",
    "\n",
    "#mean accuracy dari validasi\n",
    "meanaccv=[]\n",
    "for i in range (len(vacc1)):\n",
    "  meanaccv.append((vacc1[i]+vacc2[i]+vacc3[i]+vacc4[i]+vacc5[i])/5)\n",
    "print(meanaccv)"
   ]
  },
  {
   "cell_type": "code",
   "execution_count": null,
   "metadata": {
    "colab": {
     "base_uri": "https://localhost:8080/",
     "height": 70
    },
    "colab_type": "code",
    "id": "Hl4nMduik4Pg",
    "outputId": "f91e7c3a-b71d-4b9b-83fc-d01ec11d4da0"
   },
   "outputs": [],
   "source": [
    "#mean error dari train\n",
    "meanerror = []\n",
    "for i in range (len(e1)):\n",
    "  meanerror.append((e1[i]+e2[i]+e3[i]+e4[i]+e5[i])/5)\n",
    "print(meanerror)\n",
    "\n",
    "#mean error dari validasi\n",
    "meanerrorv = []\n",
    "for i in range (len(ve1)):\n",
    "  meanerrorv.append((ve1[i]+ve2[i]+ve3[i]+ve4[i]+ve5[i])/5)\n",
    "print(meanerrorv)"
   ]
  },
  {
   "cell_type": "markdown",
   "metadata": {
    "colab_type": "text",
    "id": "R8a6MuMfk_mA"
   },
   "source": [
    "### Visualisasi Grafik "
   ]
  },
  {
   "cell_type": "code",
   "execution_count": null,
   "metadata": {
    "colab": {
     "base_uri": "https://localhost:8080/",
     "height": 800
    },
    "colab_type": "code",
    "id": "fJbpnTVLlASQ",
    "outputId": "723e61a8-9f87-4d02-a6f6-b0c362c4d09c"
   },
   "outputs": [],
   "source": [
    "  #menunjukkan akurasi\n",
    "  x=plt.show()\n",
    "  plt.suptitle('Grafik Akurasi Learning Rate 0.8')\n",
    "  plt.xlabel('epoch')\n",
    "  plt.ylabel('accuracy')\n",
    "  plt.plot(meanaccv,'-ob')\n",
    "  plt.plot(meanacc,'-om')\n",
    "  plt.gca().legend(('akurasi data validasi','akurasi data train'))\n",
    "  y=plt.show()\n",
    "  \n",
    "  #menunjukkan error\n",
    "  y.suptitle('Grafik Error Learning Rate 0.8')\n",
    "  plt.xlabel('epoch')\n",
    "  plt.ylabel('error')\n",
    "  plt.plot(meanerrorv,'-ob')\n",
    "  plt.plot(meanerror,'-om')  \n",
    "  plt.gca().legend(('error data validasi','error data train'))"
   ]
  },
  {
   "cell_type": "code",
   "execution_count": null,
   "metadata": {
    "colab": {},
    "colab_type": "code",
    "id": "of4W1T8ioQvg"
   },
   "outputs": [],
   "source": []
  }
 ],
 "metadata": {
  "accelerator": "GPU",
  "colab": {
   "collapsed_sections": [],
   "name": "Tugas 3 Machine Learning SLP Iris.ipynb",
   "provenance": [],
   "version": "0.3.2"
  },
  "kernelspec": {
   "display_name": "Python 3",
   "language": "python",
   "name": "python3"
  },
  "language_info": {
   "codemirror_mode": {
    "name": "ipython",
    "version": 3
   },
   "file_extension": ".py",
   "mimetype": "text/x-python",
   "name": "python",
   "nbconvert_exporter": "python",
   "pygments_lexer": "ipython3",
   "version": "3.7.1"
  }
 },
 "nbformat": 4,
 "nbformat_minor": 1
}
